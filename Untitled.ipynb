{
 "cells": [
  {
   "cell_type": "code",
   "execution_count": 2,
   "id": "7912b75d-74ef-4434-8555-66943370e961",
   "metadata": {},
   "outputs": [
    {
     "name": "stdout",
     "output_type": "stream",
     "text": [
      "Hello world again!!\n"
     ]
    }
   ],
   "source": [
    "print(\"Hello world again!!\")"
   ]
  },
  {
   "cell_type": "markdown",
   "id": "c1b40bca-d147-46b0-9c14-32022d4bdadd",
   "metadata": {
    "tags": []
   },
   "source": [
    "# My First Markdown Heading"
   ]
  },
  {
   "cell_type": "markdown",
   "id": "9759dd39-3735-4770-9898-1d6b33428f28",
   "metadata": {},
   "source": [
    "## My Second Markdown Heading"
   ]
  },
  {
   "cell_type": "markdown",
   "id": "ba16b68e-cff3-4958-8dd0-0728a3789a60",
   "metadata": {},
   "source": [
    "This is some **bold** text"
   ]
  },
  {
   "cell_type": "markdown",
   "id": "631a319c-e2a5-4213-bff3-3a52d569486e",
   "metadata": {},
   "source": [
    "1. First item\n",
    "2. Second item\n",
    "3. Third item"
   ]
  },
  {
   "cell_type": "code",
   "execution_count": 3,
   "id": "f7e8e2ad-6b57-417a-a3b4-7f0aa02fa487",
   "metadata": {},
   "outputs": [],
   "source": [
    "my_var = 5"
   ]
  },
  {
   "cell_type": "code",
   "execution_count": 4,
   "id": "5c69d215-b8bc-48f3-9603-2f534245608f",
   "metadata": {},
   "outputs": [
    {
     "name": "stdout",
     "output_type": "stream",
     "text": [
      "10\n"
     ]
    }
   ],
   "source": [
    "result = my_var * 2\n",
    "print(result)"
   ]
  },
  {
   "cell_type": "code",
   "execution_count": null,
   "id": "62bf337b-7052-4d21-b9ac-3fd9a5257bd1",
   "metadata": {},
   "outputs": [],
   "source": []
  }
 ],
 "metadata": {
  "kernelspec": {
   "display_name": "Python 3 (ipykernel)",
   "language": "python",
   "name": "python3"
  },
  "language_info": {
   "codemirror_mode": {
    "name": "ipython",
    "version": 3
   },
   "file_extension": ".py",
   "mimetype": "text/x-python",
   "name": "python",
   "nbconvert_exporter": "python",
   "pygments_lexer": "ipython3",
   "version": "3.10.9"
  }
 },
 "nbformat": 4,
 "nbformat_minor": 5
}
